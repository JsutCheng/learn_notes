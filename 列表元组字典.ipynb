{
 "cells": [
  {
   "cell_type": "markdown",
   "metadata": {},
   "source": [
    "# 列表\n",
    "\n",
    "## 常用函数\n",
    "- 使用title()使列表中字符串首字母大写\n",
    "- 修改某个值\n",
    "- 添加元素\n",
    "    - 使用append()\n",
    "    - 使用insert()\n",
    "- 删除元素\n",
    "    - 使用del语句\n",
    "    - 使用pop()\n",
    "    - 使用remove()\n",
    "- 使用sort()对列表进行永久排序\n",
    "- 使用reverse()使列表反转排序顺序\n",
    "- 使用len()确定列表的长度\n",
    "## 注意点\n",
    "- 访问列表元素\n",
    "- 索引是从零开始\n",
    "## 对数字列表进行简单的统计计算\n",
    "- min()\n",
    "- max()\n",
    "- sum()\n",
    "## 列表解析\n",
    "## 使用列表的一部分呢\n",
    "- 切片\n",
    "## 复制列表的注意点"
   ]
  },
  {
   "cell_type": "code",
   "execution_count": 64,
   "metadata": {},
   "outputs": [
    {
     "name": "stdout",
     "output_type": "stream",
     "text": [
      "Trek\n"
     ]
    }
   ],
   "source": [
    "#首字母大写\n",
    "bicycles = ['trek','cannondale','redline','specialized']\n",
    "print(bicycles[0].title())"
   ]
  },
  {
   "cell_type": "code",
   "execution_count": 65,
   "metadata": {},
   "outputs": [
    {
     "name": "stdout",
     "output_type": "stream",
     "text": [
      "['ducati', 'yamaha', 'suzuki']\n"
     ]
    }
   ],
   "source": [
    "#修改某个值\n",
    "motorcycles = ['honda','yamaha','suzuki']\n",
    "motorcycles[0] = 'ducati'\n",
    "print(motorcycles)"
   ]
  },
  {
   "cell_type": "code",
   "execution_count": 66,
   "metadata": {},
   "outputs": [
    {
     "name": "stdout",
     "output_type": "stream",
     "text": [
      "['honda', 'yamaha', 'suzuki']\n",
      "['ducati', 'honda', 'yamaha', 'suzuki']\n"
     ]
    }
   ],
   "source": [
    "#添加元素\n",
    "motorcycles = []\n",
    "motorcycles.append('honda')\n",
    "motorcycles.append('yamaha')\n",
    "motorcycles.append('suzuki')\n",
    "print(motorcycles)\n",
    "\n",
    "motorcycles.insert(0,'ducati')#在对应索引下添加元素\n",
    "print(motorcycles)"
   ]
  },
  {
   "cell_type": "code",
   "execution_count": 67,
   "metadata": {},
   "outputs": [
    {
     "name": "stdout",
     "output_type": "stream",
     "text": [
      "['honda', 'suzuki']\n",
      "['honda', 'yamaha']\n",
      "suzuki\n",
      "['honda', 'yamaha', 'suzuki']\n"
     ]
    }
   ],
   "source": [
    "#删除元素\n",
    "motorcycles = ['honda','yamaha','suzuki']\n",
    "del motorcycles[1]#使用del()只需要知道索引即可，del()删除值后的就无法再访问了\n",
    "print(motorcycles)\n",
    "\n",
    "motorcycles = ['honda','yamaha','suzuki']\n",
    "popped_motorcycle = motorcycles.pop()#使用pop()删除末尾的元素，并能够让你能接着使用它，可以贼pop(index)加索引弹出任意位置的元素\n",
    "print(motorcycles)\n",
    "print(popped_motorcycle)\n",
    "\n",
    "motorcycles = ['honda','yamaha','suzuki','ducati']\n",
    "motorcycles.remove('ducati')#根据值输出元素\n",
    "print(motorcycles)"
   ]
  },
  {
   "cell_type": "code",
   "execution_count": 68,
   "metadata": {},
   "outputs": [
    {
     "name": "stdout",
     "output_type": "stream",
     "text": [
      "['audi', 'bmv', 'subaru', 'toyota']\n",
      "['toyota', 'subaru', 'bmv', 'audi']\n",
      "['audi', 'bmv', 'subaru', 'toyota']\n",
      "['bmv', 'audi', 'toyota', 'subaru']\n",
      "['bmv', 'audi', 'toyota', 'subaru']\n"
     ]
    }
   ],
   "source": [
    "#排序\n",
    "cars = ['bmv','audi','toyota','subaru']\n",
    "cars.sort()#永久性按照字母顺序进行排序\n",
    "print(cars)\n",
    "\n",
    "cars = ['bmv','audi','toyota','subaru']\n",
    "cars.sort(reverse = True)#使其永久性按照与字母顺序相反进行排序\n",
    "print(cars)\n",
    "\n",
    "cars = ['bmv','audi','toyota','subaru']\n",
    "print(sorted(cars))#按特定顺序显示列表不影响原列表的排序\n",
    "print(cars)\n",
    "\n",
    "cars = ['bmv','audi','toyota','subaru']\n",
    "cars.reverse#使原列表的顺序倒过来\n",
    "print(cars)"
   ]
  },
  {
   "cell_type": "code",
   "execution_count": 69,
   "metadata": {},
   "outputs": [
    {
     "name": "stdout",
     "output_type": "stream",
     "text": [
      "4\n"
     ]
    }
   ],
   "source": [
    "#确定列表长度\n",
    "cars = ['bmv','audi','toyota','subaru']\n",
    "print(len(cars))"
   ]
  },
  {
   "cell_type": "code",
   "execution_count": 70,
   "metadata": {},
   "outputs": [
    {
     "name": "stdout",
     "output_type": "stream",
     "text": [
      "bmv\n"
     ]
    }
   ],
   "source": [
    "#访问列表元素\n",
    "cars = ['bmv','audi','toyota','subaru']\n",
    "print(cars[0])#加上对应的索引即可"
   ]
  },
  {
   "cell_type": "markdown",
   "metadata": {},
   "source": [
    "### 对数字列表进行简单的统计计算"
   ]
  },
  {
   "cell_type": "code",
   "execution_count": 71,
   "metadata": {},
   "outputs": [
    {
     "name": "stdout",
     "output_type": "stream",
     "text": [
      "0\n",
      "9\n",
      "45\n"
     ]
    }
   ],
   "source": [
    "digits = [1,2,3,4,5,6,7,8,9,0]\n",
    "print(min(digits))\n",
    "print(max(digits))\n",
    "print(sum(digits))"
   ]
  },
  {
   "cell_type": "markdown",
   "metadata": {},
   "source": [
    "### 列表解析"
   ]
  },
  {
   "cell_type": "code",
   "execution_count": 72,
   "metadata": {},
   "outputs": [
    {
     "name": "stdout",
     "output_type": "stream",
     "text": [
      "[1, 4, 9, 16, 25, 36, 49, 64, 81, 100]\n"
     ]
    }
   ],
   "source": [
    "squares = [value**2 for value in range(1,11)]#注意这里的for循环就不需要冒号\n",
    "print(squares)"
   ]
  },
  {
   "cell_type": "markdown",
   "metadata": {},
   "source": [
    "### 使用列表的一部分以及注意点"
   ]
  },
  {
   "cell_type": "code",
   "execution_count": 73,
   "metadata": {},
   "outputs": [
    {
     "name": "stdout",
     "output_type": "stream",
     "text": [
      "['charles', 'martina', 'michael']\n",
      "['charles', 'martina', 'michael', 'florene', 'eli']\n",
      "['charles', 'martina', 'michael', 'florene']\n",
      "['martina', 'michael', 'florene', 'eli']\n"
     ]
    }
   ],
   "source": [
    "#切片\n",
    "players = ['charles','martina','michael','florene','eli']\n",
    "print(players[0:3])#从左开始右边索引的元素不输出\n",
    "print(players)\n",
    "print(players[:4])#默认左边是0即从第一个元素开始输出\n",
    "print(players[1:])#从左边的索引开始一直输到底\n",
    "\n"
   ]
  },
  {
   "cell_type": "code",
   "execution_count": 74,
   "metadata": {},
   "outputs": [
    {
     "name": "stdout",
     "output_type": "stream",
     "text": [
      "['bmv', 'audi', 'toyota', 'subaru']\n"
     ]
    }
   ],
   "source": [
    "#复制列表的注意点\n",
    "cars = ['bmv','audi','toyota','subaru']\n",
    "many_cars = cars[:]#这样是形成了两个列表占取不同的内存单元\n",
    "print(many_cars)\n",
    "\n",
    "lots_car = cars#直接赋值即使lots_car指向cars所指向的内存单元即改变任何一个中的元素两个同时改变"
   ]
  },
  {
   "cell_type": "markdown",
   "metadata": {},
   "source": [
    "# 元组的注意点\n",
    "- 不能修改元素的值\n",
    "- 但是能给存储元素的变量赋值"
   ]
  },
  {
   "cell_type": "code",
   "execution_count": 77,
   "metadata": {},
   "outputs": [
    {
     "ename": "TypeError",
     "evalue": "'tuple' object does not support item assignment",
     "output_type": "error",
     "traceback": [
      "\u001b[1;31m---------------------------------------------------------------------------\u001b[0m",
      "\u001b[1;31mTypeError\u001b[0m                                 Traceback (most recent call last)",
      "\u001b[1;32m<ipython-input-77-131264d2eb31>\u001b[0m in \u001b[0;36m<module>\u001b[1;34m()\u001b[0m\n\u001b[0;32m      1\u001b[0m \u001b[0mdimensions\u001b[0m \u001b[1;33m=\u001b[0m \u001b[1;33m(\u001b[0m\u001b[1;36m200\u001b[0m\u001b[1;33m,\u001b[0m\u001b[1;36m50\u001b[0m\u001b[1;33m)\u001b[0m\u001b[1;31m#和列表的不同点就是用圆括号\u001b[0m\u001b[1;33m\u001b[0m\u001b[0m\n\u001b[1;32m----> 2\u001b[1;33m \u001b[0mdimensions\u001b[0m\u001b[1;33m[\u001b[0m\u001b[1;36m0\u001b[0m\u001b[1;33m]\u001b[0m \u001b[1;33m=\u001b[0m \u001b[1;36m250\u001b[0m\u001b[1;33m\u001b[0m\u001b[0m\n\u001b[0m",
      "\u001b[1;31mTypeError\u001b[0m: 'tuple' object does not support item assignment"
     ]
    }
   ],
   "source": [
    "dimensions = (200,50)#和列表的不同点就是用圆括号\n",
    "dimensions[0] = 250"
   ]
  },
  {
   "cell_type": "code",
   "execution_count": 3,
   "metadata": {},
   "outputs": [
    {
     "name": "stdout",
     "output_type": "stream",
     "text": [
      "(200, 50, 30, 40)\n",
      "(400, 100, 60, 70)\n",
      "(400, 100, 60)\n"
     ]
    }
   ],
   "source": [
    "dimensions = (200,50,30,40)\n",
    "print(dimensions)\n",
    "dimensions = (400,100,60,70)#可以给存储元素的变量赋值\n",
    "print(dimensions)\n",
    "print(dimensions[0:3])#切片用法和列表一致"
   ]
  },
  {
   "cell_type": "markdown",
   "metadata": {},
   "source": [
    "# 字典\n",
    "## 基本操作\n",
    "- 定义：即用大括号的一种形式讲究键值对应\n",
    "- 如何添加键值\n",
    "- 如何修改值\n",
    "- 删除键值对\n",
    "- 遍历所有键-值对\n",
    "- 遍历所有键\n",
    "- 遍历所有值\n",
    "## 嵌套使用\n",
    "- 在字典中存储列表\n",
    "- 在字典中存储字典"
   ]
  },
  {
   "cell_type": "code",
   "execution_count": 5,
   "metadata": {},
   "outputs": [
    {
     "name": "stdout",
     "output_type": "stream",
     "text": [
      "{'color': 'green', 'points': '5'}\n"
     ]
    }
   ],
   "source": [
    "#如何添加值\n",
    "allen_0 = {}\n",
    "allen_0['color'] = 'green'\n",
    "allen_0['points'] = '5'\n",
    "print(allen_0)"
   ]
  },
  {
   "cell_type": "code",
   "execution_count": 7,
   "metadata": {},
   "outputs": [
    {
     "name": "stdout",
     "output_type": "stream",
     "text": [
      "{'color': 'blue', 'points': '5'}\n"
     ]
    }
   ],
   "source": [
    "#如何修改值\n",
    "allen_0 = {'color':'green','points':5}\n",
    "allen_0['color'] = 'blue'\n",
    "print(allen_0)"
   ]
  },
  {
   "cell_type": "code",
   "execution_count": 11,
   "metadata": {},
   "outputs": [
    {
     "name": "stdout",
     "output_type": "stream",
     "text": [
      "{'points': 5}\n"
     ]
    }
   ],
   "source": [
    "#删除键-值对\n",
    "allen_0 = {'color':'green','points':5}\n",
    "del allen_0['color']\n",
    "print(allen_0)"
   ]
  },
  {
   "cell_type": "code",
   "execution_count": 22,
   "metadata": {},
   "outputs": [
    {
     "name": "stdout",
     "output_type": "stream",
     "text": [
      "('color', 'green')\n",
      "('points', 5)\n"
     ]
    }
   ],
   "source": [
    "#遍历所有键-值对\n",
    "allen_0 = {'color':'green','points':5}\n",
    "for item in allen_0.items():\n",
    "    print(item)"
   ]
  },
  {
   "cell_type": "code",
   "execution_count": 24,
   "metadata": {},
   "outputs": [
    {
     "name": "stdout",
     "output_type": "stream",
     "text": [
      "color\n",
      "points\n"
     ]
    }
   ],
   "source": [
    "#遍历所有键\n",
    "allen_0 = {'color':'green','points':5}\n",
    "for key in allen_0.keys():\n",
    "    print(key)"
   ]
  },
  {
   "cell_type": "code",
   "execution_count": 28,
   "metadata": {},
   "outputs": [
    {
     "name": "stdout",
     "output_type": "stream",
     "text": [
      "green 5 Help on built-in function print in module builtins:\n",
      "\n",
      "print(...)\n",
      "    print(value, ..., sep=' ', end='\\n', file=sys.stdout, flush=False)\n",
      "    \n",
      "    Prints the values to a stream, or to sys.stdout by default.\n",
      "    Optional keyword arguments:\n",
      "    file:  a file-like object (stream); defaults to the current sys.stdout.\n",
      "    sep:   string inserted between values, default a space.\n",
      "    end:   string appended after the last value, default a newline.\n",
      "    flush: whether to forcibly flush the stream.\n",
      "\n"
     ]
    }
   ],
   "source": [
    "#遍历所有值\n",
    "allen_0 = {'color':'green','points':5}\n",
    "for value in allen_0.values():\n",
    "    print(value,end = ' ')#这里的end = ‘ ’使将其输出在同一行用空格相连接\n",
    "help(print)#可通过help函数查询"
   ]
  },
  {
   "cell_type": "markdown",
   "metadata": {},
   "source": [
    "### 嵌套使用"
   ]
  },
  {
   "cell_type": "code",
   "execution_count": 32,
   "metadata": {},
   "outputs": [
    {
     "name": "stdout",
     "output_type": "stream",
     "text": [
      "{'jen': ['python', 'ruby'], 'sar': ['c'], 'edward': ['ruby', 'go'], 'phil': ['python', 'haskell']}\n"
     ]
    }
   ],
   "source": [
    "#字典中存储列表\n",
    "favorite_languages = {\n",
    "    'jen':['python','ruby'],\n",
    "    'sar':['c'],\n",
    "    'edward':['ruby','go'],\n",
    "    'phil':['python','haskell'],\n",
    "}\n",
    "print(favorite_languages)"
   ]
  },
  {
   "cell_type": "code",
   "execution_count": 35,
   "metadata": {},
   "outputs": [
    {
     "name": "stdout",
     "output_type": "stream",
     "text": [
      "{'aeinstein': {'first': 'albert', 'last': 'einstein', 'location': 'princeton'}, 'mcurie': {'first': 'marie', 'last': 'curie', 'location': 'paris'}}\n"
     ]
    }
   ],
   "source": [
    "#在字典中存储字典\n",
    "users = {\n",
    "    'aeinstein':{\n",
    "        'first':'albert','last':'einstein','location':'princeton'\n",
    "    },\n",
    "    'mcurie':{\n",
    "        'first':'marie',\n",
    "        'last':'curie',\n",
    "        'location':'paris'\n",
    "    }\n",
    "}\n",
    "print(users)"
   ]
  }
 ],
 "metadata": {
  "kernelspec": {
   "display_name": "Python 3",
   "language": "python",
   "name": "python3"
  },
  "language_info": {
   "codemirror_mode": {
    "name": "ipython",
    "version": 3
   },
   "file_extension": ".py",
   "mimetype": "text/x-python",
   "name": "python",
   "nbconvert_exporter": "python",
   "pygments_lexer": "ipython3",
   "version": "3.6.4"
  }
 },
 "nbformat": 4,
 "nbformat_minor": 2
}
